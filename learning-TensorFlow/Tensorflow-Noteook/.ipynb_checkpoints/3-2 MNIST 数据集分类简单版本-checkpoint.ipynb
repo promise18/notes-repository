{
 "cells": [
  {
   "cell_type": "code",
   "execution_count": 2,
   "metadata": {},
   "outputs": [],
   "source": [
    "import tensorflow as tf\n",
    "from tensorflow.examples.tutorials.mnist import input_data"
   ]
  },
  {
   "cell_type": "code",
   "execution_count": 7,
   "metadata": {},
   "outputs": [
    {
     "name": "stdout",
     "output_type": "stream",
     "text": [
      "Extracting MNIST_data\\train-images-idx3-ubyte.gz\n",
      "Extracting MNIST_data\\train-labels-idx1-ubyte.gz\n",
      "Extracting MNIST_data\\t10k-images-idx3-ubyte.gz\n",
      "Extracting MNIST_data\\t10k-labels-idx1-ubyte.gz\n",
      "Iter0,Testing Accuacy0.8998\n",
      "Iter1,Testing Accuacy0.9106\n",
      "Iter2,Testing Accuacy0.916\n",
      "Iter3,Testing Accuacy0.9178\n",
      "Iter4,Testing Accuacy0.9183\n",
      "Iter5,Testing Accuacy0.9198\n",
      "Iter6,Testing Accuacy0.9213\n",
      "Iter7,Testing Accuacy0.923\n",
      "Iter8,Testing Accuacy0.9245\n",
      "Iter9,Testing Accuacy0.9242\n",
      "Iter10,Testing Accuacy0.9247\n",
      "Iter11,Testing Accuacy0.9237\n",
      "Iter12,Testing Accuacy0.9259\n",
      "Iter13,Testing Accuacy0.9256\n",
      "Iter14,Testing Accuacy0.9266\n",
      "Iter15,Testing Accuacy0.9262\n",
      "Iter16,Testing Accuacy0.9275\n",
      "Iter17,Testing Accuacy0.9271\n",
      "Iter18,Testing Accuacy0.9264\n",
      "Iter19,Testing Accuacy0.9271\n",
      "Iter20,Testing Accuacy0.9274\n"
     ]
    }
   ],
   "source": [
    "# 载入数据集\n",
    "mnist = input_data.read_data_sets(\"MNIST_data\",one_hot=True)# one_hot:把标签转换为只有0和1\n",
    "\n",
    "# 定义每个批次的大小\n",
    "## 可以通过修改批次来进行优化\n",
    "batch_size = 100 # 一次性放入一个批次 \n",
    "# 计算一共有多少个批次\n",
    "n_batch = mnist.train.num_examples // batch_size # 整除\n",
    "\n",
    "# 定义两个placeholder\n",
    "\n",
    "x = tf.placeholder(tf.float32,[None,784]) # 28 * 28 转换为784\n",
    "y = tf.placeholder(tf.float32,[None,10])\n",
    "\n",
    "# 创建一个简单的神经网络\n",
    "## 可以通过增加隐藏层进行优化 ## w和b的初始化值可以修改进行优化\n",
    "W = tf.Variable(tf.zeros([784,10]))\n",
    "b = tf.Variable(tf.zeros([10]))\n",
    "prediction = tf.nn.softmax(tf.matmul(x,W)+b) ## 修改激活函数进行优化\n",
    "\n",
    "# 定义二次代价函数\n",
    "loss = tf.reduce_mean(tf.square(y-prediction)) ## 代价函数：交叉熵会不会更好\n",
    "# 使用梯度下降法\n",
    "train_step = tf.train.GradientDescentOptimizer(0.5).minimize(loss) ## 学习率修改进行优化以及其他优化方式\n",
    "\n",
    "# 初始化变量\n",
    "init = tf.global_variables_initializer()\n",
    "\n",
    "# 结果存放在布尔型列表中\n",
    "correct_prediction = tf.equal(tf.argmax(y,1),tf.argmax(prediction,1))# argmax 返回一维张量中最大的值所在的位置\n",
    "# 求准确率\n",
    "accuracy = tf.reduce_mean(tf.cast(correct_prediction,tf.float32)) # 如果9个true，1个flase，那么就是9个1，1个0，准确率为90%\n",
    "\n",
    "with tf.Session() as sess:\n",
    "    sess.run(init)\n",
    "    # 把所有的图片训练21次\n",
    "    for epoch in range(21): ## 尝试训练更多的次数进行优化\n",
    "        for batch in range(n_batch): # 一共进行的批次（把训练集中所有的图片都循环了一次）\n",
    "            batch_xs,batch_ys = mnist.train.next_batch(batch_size)# 获得下一个一百张图片\n",
    "            sess.run(train_step,feed_dict={x:batch_xs,y:batch_ys})\n",
    "            \n",
    "        acc = sess.run(accuracy,feed_dict={x:mnist.test.images,y:mnist.test.labels}) # 喂进去的就是测试集里面的图片和标签\n",
    "        print(\"Iter\" + str(epoch) + \",Testing Accuacy\" + str(acc))"
   ]
  },
  {
   "cell_type": "code",
   "execution_count": null,
   "metadata": {},
   "outputs": [],
   "source": [
    "# 二次代价函数结果\n",
    "Iter0,Testing Accuacy0.8998\n",
    "Iter1,Testing Accuacy0.9106\n",
    "Iter2,Testing Accuacy0.916\n",
    "Iter3,Testing Accuacy0.9178\n",
    "Iter4,Testing Accuacy0.9183\n",
    "Iter5,Testing Accuacy0.9198\n",
    "Iter6,Testing Accuacy0.9213\n",
    "Iter7,Testing Accuacy0.923\n",
    "Iter8,Testing Accuacy0.9245\n",
    "Iter9,Testing Accuacy0.9242\n",
    "Iter10,Testing Accuacy0.9247\n",
    "Iter11,Testing Accuacy0.9237\n",
    "Iter12,Testing Accuacy0.9259\n",
    "Iter13,Testing Accuacy0.9256\n",
    "Iter14,Testing Accuacy0.9266\n",
    "Iter15,Testing Accuacy0.9262\n",
    "Iter16,Testing Accuacy0.9275\n",
    "Iter17,Testing Accuacy0.9271\n",
    "Iter18,Testing Accuacy0.9264\n",
    "Iter19,Testing Accuacy0.9271\n",
    "Iter20,Testing Accuacy0.9274"
   ]
  }
 ],
 "metadata": {
  "kernelspec": {
   "display_name": "Python 3",
   "language": "python",
   "name": "python3"
  },
  "language_info": {
   "codemirror_mode": {
    "name": "ipython",
    "version": 3
   },
   "file_extension": ".py",
   "mimetype": "text/x-python",
   "name": "python",
   "nbconvert_exporter": "python",
   "pygments_lexer": "ipython3",
   "version": "3.6.8"
  }
 },
 "nbformat": 4,
 "nbformat_minor": 2
}
